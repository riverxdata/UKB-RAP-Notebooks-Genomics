{
 "cells": [
  {
   "cell_type": "markdown",
   "id": "05842035",
   "metadata": {},
   "source": [
    "# Merging, converting and filtering variant data using PLINK 2.0\n",
    "\n",
    "> This notebook shows how to interact with genomic data in bed/bim/bam format using PLINK 2.0. We will learn how to convert between PLINK 1.x and PLINK 2.x file formats, merge variants from different chromosomes into a single file and filter them based on variant completeness and minor allelic frequencies (MAF). While runtime is approximately 12 hours it can be significantly scaled down (see subsequent notes).\n",
    "\n",
    "- runtime: 12 hours\n",
    "- recommended instance: mem1_ssd1_v2_x16\n",
    "- estimated cost: ca. £5.00\n",
    "\n",
    "This notebook depends on:\n",
    "* **PLINK install**\n",
    "\n",
    "This process filters and then merges all the chromosomes into one file. More filters, prior to merging will likely speed this process."
   ]
  },
  {
   "cell_type": "markdown",
   "id": "3f7d9d92",
   "metadata": {},
   "source": [
    "## List the exome sequences data directories in your project\n",
    "\n",
    "Please note, that depending on your project's MTA the list of files might differ."
   ]
  },
  {
   "cell_type": "code",
   "execution_count": null,
   "id": "2c4281b3",
   "metadata": {
    "tags": []
   },
   "outputs": [],
   "source": [
    "ls /mnt/project/Bulk/'Exome sequences'/"
   ]
  },
  {
   "cell_type": "markdown",
   "id": "e6f53904",
   "metadata": {},
   "source": [
    "## List the population variant files in PLINK 1.x (bed/bim/fam) format"
   ]
  },
  {
   "cell_type": "code",
   "execution_count": null,
   "id": "b3f681fb",
   "metadata": {
    "tags": []
   },
   "outputs": [],
   "source": [
    "ls /mnt/project/Bulk/'Exome sequences'/'Population level exome OQFE variants, PLINK format - final release'/"
   ]
  },
  {
   "cell_type": "markdown",
   "id": "1512a917",
   "metadata": {},
   "source": [
    "## Prepare the list of files to that will be filtered\n",
    "NB for this demo we use the first 8 chromosomes\n",
    "this will take a few hours to generate the output files\n",
    "subsequent notebooks could instead be run on fewer inputs - e.g., chromosomes 20-22 (i.e. the three smallest chromosomes)\n",
    "However, a couple of downstream notebook analyses may not show significant results:\n",
    "this may not be essential if you are simply aiming to observe how the codes work and therefore may wish to use chrs 20-22\n"
   ]
  },
  {
   "cell_type": "markdown",
   "id": "10e2897e-77c2-4b97-942b-8f11d6c682fc",
   "metadata": {},
   "source": []
  },
  {
   "cell_type": "code",
   "execution_count": null,
   "id": "60ce4864",
   "metadata": {},
   "outputs": [],
   "source": [
    "# remove list_beds if existed\n",
    "if [ -f list_beds ]; do\n",
    "    rm -f list_beds.txt\n",
    "fi\n",
    "\n",
    "for chr in {1..8}; do # **OPTIONAL CHANGE TO** {20..22} \n",
    "    echo \"ukb23158_c${chr}_b0_v1\" >> list_beds.txt; \n",
    "done"
   ]
  },
  {
   "cell_type": "markdown",
   "id": "443381b3",
   "metadata": {},
   "source": [
    "The list is a white-space delimited file listing a bed, bim and fam files in each column:\n"
   ]
  },
  {
   "cell_type": "markdown",
   "id": "ca3d528a",
   "metadata": {},
   "source": [
    "## Apply filters to each file in the list and export as PLINK 1.x dataset (bed/bim/fam)\n",
    "\n",
    "List of filters:\n",
    "\n",
    "- `--maf` filters out all variants with allele frequency below 0.01, different thresholds can be  provided by modifying a numeric value after this parameter\n",
    "- `--mac` impose a filter on lower allele count, only variants with at least 100 cases will be included\n",
    "- `--geno` filters out all variants with missing call rates exceeding the provided value - setting this value to 0 removes all incomplete variants\n",
    "- `--hwe` filters out all variants which have Hardy-Weinberg equilibrium exact test p-value below the provided threshold\n",
    "- `--mind` filter out samples with missing calls above treshold of 10%\n",
    "- `--no-psam-pheno` ignore all phenotype data in the sample information file and allows .fam files with no phenotype column to be loaded (such as withdrawn participants) "
   ]
  },
  {
   "cell_type": "code",
   "execution_count": null,
   "id": "6a2c46e3",
   "metadata": {},
   "outputs": [],
   "source": [
    "for x in $(cat list_beds.txt);do \\\n",
    "docker run -v $PWD:$PWD -w $PWD quay.io/biocontainers/plink2:2.0.0a.6.9--h9948957_0 plink2  \\\n",
    "  --threads $(nproc) \\\n",
    "  --bfile /mnt/project/Bulk/'Exome sequences'/'Population level exome OQFE variants, PLINK format - final release'/$x \\\n",
    "  --maf 0.01 --mac 100 --geno 0 --hwe 1e-15 \\\n",
    "  --no-psam-pheno \\\n",
    "  --mind 0.1 \\\n",
    "  --write-snplist --write-samples --no-id-header \\\n",
    "  --make-bed \\\n",
    "  --out ${x}_filt; done"
   ]
  },
  {
   "cell_type": "markdown",
   "id": "b9b36285",
   "metadata": {},
   "source": [
    "## Make a suitably formatted list (\"filtered_list2.txt\") of all the filtered files"
   ]
  },
  {
   "cell_type": "code",
   "execution_count": 5,
   "id": "36ea572a",
   "metadata": {},
   "outputs": [],
   "source": [
    "ls *filt.bed | sed 's/.bed//g' > filtered_list.txt\n",
    "awk '{print $1\".bed\", $1\".bim\", $1\".fam\"}' filtered_list.txt > filtered_list2.txt"
   ]
  },
  {
   "cell_type": "markdown",
   "id": "33e8af81",
   "metadata": {},
   "source": [
    "## Merge genomic files to a single PLINK 1.x \n",
    "\n",
    "Change `--make-bed` to `--make-pgen` to produce PLINK 2.x formated files (pgen/pvar/psam) they are faster to work with and have significntly smaller size"
   ]
  },
  {
   "cell_type": "code",
   "execution_count": null,
   "id": "64f9cb40",
   "metadata": {},
   "outputs": [],
   "source": [
    "docker run -v $PWD:$PWD -w $PWD quay.io/biocontainers/plink2:2.0.0a.6.9--h9948957_0 plink2 \\\n",
    "  --threads $(nproc) \\\n",
    "  --no-pheno \\\n",
    "  --pmerge-list filtered_list2.txt \\\n",
    "  --make-bed \\\n",
    "  --out maf_flt_8chroms"
   ]
  },
  {
   "cell_type": "markdown",
   "id": "ffdedc52",
   "metadata": {},
   "source": [
    "## Validate the output dataset"
   ]
  },
  {
   "cell_type": "code",
   "execution_count": null,
   "id": "613d9a2c",
   "metadata": {},
   "outputs": [],
   "source": [
    "docker run -v $PWD:$PWD -w $PWD quay.io/biocontainers/plink2:2.0.0a.6.9--h9948957_0 plink2 \\\n",
    "  --threads $(nproc) \\\n",
    "  --pfile maf_flt_8chroms \\\n",
    "  --validate"
   ]
  },
  {
   "cell_type": "markdown",
   "id": "508d780b",
   "metadata": {},
   "source": [
    "## Upload the completed dataset to your project\n",
    "\n",
    "We will use this dataset in other notebooks"
   ]
  },
  {
   "cell_type": "code",
   "execution_count": null,
   "id": "fb17bea7",
   "metadata": {},
   "outputs": [],
   "source": [
    "dx mkdir bed_maf\n",
    "dx upload maf_flt_8chroms* --path bed_maf/"
   ]
  }
 ],
 "metadata": {
  "kernelspec": {
   "display_name": "Bash",
   "language": "bash",
   "name": "bash"
  },
  "language_info": {
   "codemirror_mode": "shell",
   "file_extension": ".sh",
   "mimetype": "text/x-sh",
   "name": "bash"
  }
 },
 "nbformat": 4,
 "nbformat_minor": 5
}
