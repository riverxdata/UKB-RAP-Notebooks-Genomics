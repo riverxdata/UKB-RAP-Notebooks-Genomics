{
 "cells": [
  {
   "cell_type": "markdown",
   "id": "a8345c8b",
   "metadata": {},
   "source": [
    "# pVCF to PLINK 2.0\n",
    "\n",
    "> This notebook shows how to interact with genomic data in bed/bim/bam format using PLINK 2.0. We will learn how to convert between PLINK 1.x and PLINK 2.x file formats, merge variants from different chromosomes into a single file and filter them based on variant completeness and minor allelic frequencies (MAF). Please note the extended runtime of this notebook and that no subsequent analyses are contingent on its outputted files.\n",
    "\n",
    "- runtime: 4hrs\n",
    "- recommended instance: mem1_ssd1_v2_x16\n",
    "- estimated cost: <£1.50\n",
    "\n",
    "This notebook depends on:\n",
    "* **PLINK install**\n"
   ]
  },
  {
   "cell_type": "markdown",
   "id": "216f863d",
   "metadata": {},
   "source": [
    "## List the exome sequences data directories in your project\n",
    "\n",
    "Please note, that depending on your project's MTA the list of files might differ."
   ]
  },
  {
   "cell_type": "code",
   "execution_count": null,
   "id": "96fc0500",
   "metadata": {
    "tags": []
   },
   "outputs": [],
   "source": [
    "ls /mnt/project/Bulk/'Exome sequences'/"
   ]
  },
  {
   "cell_type": "markdown",
   "id": "fde96530",
   "metadata": {},
   "source": [
    "## List the population variant files in PLINK 1.x (bed/bim/fam) format"
   ]
  },
  {
   "cell_type": "code",
   "execution_count": null,
   "id": "65199989",
   "metadata": {},
   "outputs": [],
   "source": [
    "ls -lah /mnt/project/Bulk/'Exome sequences'/'Population level exome OQFE variants, pVCF format - final release'/*c1_b1_*gz"
   ]
  },
  {
   "cell_type": "markdown",
   "id": "2582fbbf-f584-4bae-bf6e-5f6ce7e1a82f",
   "metadata": {
    "tags": []
   },
   "source": [
    "### Install and test the PLINK2 binary\n",
    "#### We recommend installing plink using the links available here:\n",
    "https://www.cog-genomics.org/plink/2.0/\n",
    "\n",
    "#### You can download the binary (AVX2 Intel; for example, using `wget <URL>`), before unzipping (`unzip <zip file>`) then making it exectutable (`chmod a+x <name>`)\n",
    "\n",
    "#### if preferred, Plink is also available in the following locations:\n",
    "https://anaconda.org/bioconda/plink2; https://github.com/chrchang/plink-ng\n",
    "\n",
    "#### Once installed, continue with the below code chunks.\n"
   ]
  },
  {
   "cell_type": "code",
   "execution_count": null,
   "id": "a6d673d0",
   "metadata": {
    "tags": []
   },
   "outputs": [],
   "source": [
    "# Test plink works\n",
    "docker run quay.io/biocontainers/plink2:2.0.0a.6.9--h9948957_0 plink2 --help"
   ]
  },
  {
   "cell_type": "markdown",
   "id": "173012c2-99bd-4461-ba68-488417809d6c",
   "metadata": {},
   "source": [
    "### Next install and test BCFTOOLS\n",
    "#### Following instructions here: http://samtools.github.io/bcftools/howtos/install.html, enter the following code (NB a large amount of text output will follow):"
   ]
  },
  {
   "cell_type": "code",
   "execution_count": null,
   "id": "3af313a0-f6c5-462c-b11d-8aaff14d19cf",
   "metadata": {
    "tags": []
   },
   "outputs": [],
   "source": [
    "docker run quay.io/biocontainers/bcftools:1.21--h3a4d415_1 bcftools --help"
   ]
  },
  {
   "cell_type": "markdown",
   "id": "e4f7518a",
   "metadata": {},
   "source": [
    "## Get reference genome"
   ]
  },
  {
   "cell_type": "code",
   "execution_count": null,
   "id": "05752fb7",
   "metadata": {
    "tags": []
   },
   "outputs": [],
   "source": [
    "wget ftp://ftp.1000genomes.ebi.ac.uk/vol1/ftp/technical/reference/GRCh38_reference_genome/GRCh38_full_analysis_set_plus_decoy_hla.fa\n",
    "wget ftp://ftp.1000genomes.ebi.ac.uk/vol1/ftp/technical/reference/GRCh38_reference_genome/GRCh38_full_analysis_set_plus_decoy_hla.fa.fai"
   ]
  },
  {
   "cell_type": "code",
   "execution_count": null,
   "id": "be2f57ec",
   "metadata": {},
   "outputs": [],
   "source": [
    "# Upload reference genome\n",
    "dx mkdir ref_gen\n",
    "dx upload GRCh38* --path ref_gen/"
   ]
  },
  {
   "cell_type": "code",
   "execution_count": null,
   "id": "c320bd7e",
   "metadata": {
    "tags": []
   },
   "outputs": [],
   "source": [
    "REF=`ls *fa`\n",
    "echo $REF"
   ]
  },
  {
   "cell_type": "markdown",
   "id": "53159ca8",
   "metadata": {},
   "source": [
    "## Find pVCF path(s)"
   ]
  },
  {
   "cell_type": "code",
   "execution_count": null,
   "id": "d5785e10",
   "metadata": {
    "tags": []
   },
   "outputs": [],
   "source": [
    "# Find the path of UKB block pvcf files for chromosome 1, recursive download them\n",
    "dx find data --brief --name ukb23157_c1_b1_v1.vcf.gz | xargs dx download"
   ]
  },
  {
   "cell_type": "code",
   "execution_count": null,
   "id": "c71fea3a",
   "metadata": {
    "tags": []
   },
   "outputs": [],
   "source": [
    "VCF=`ls *vcf.gz`\n",
    "echo $VCF"
   ]
  },
  {
   "cell_type": "markdown",
   "id": "66f63027",
   "metadata": {},
   "source": [
    "## Run bcftools normalization\n",
    "This procedure left-aligns and normalizes indels, checks if REF alleles match the reference and split multiallelic sites into multiple rows. More info here: https://samtools.github.io/bcftools/bcftools.html#norm"
   ]
  },
  {
   "cell_type": "code",
   "execution_count": null,
   "id": "f3c59c53",
   "metadata": {
    "tags": []
   },
   "outputs": [],
   "source": [
    "%%bash\n",
    "# Single file run: just to test IO-bound threads\n",
    "time docker run -v \"$PWD\":\"$PWD\" -w \"$PWD\" quay.io/biocontainers/bcftools:1.21--h3a4d415_1 \\\n",
    "  bcftools norm --threads \"$(nproc)\" -f \"$REF\" -m -any -Oz -o \"${VCF%.*.*}.norm.vcf.gz\" \"$VCF\"\n",
    "\n",
    "# Now for batch processing using xargs (multiple processes with multiple threads in bcftools)\n",
    "batch_file_names=\"filelist.txt\"\n",
    "echo \"$VCF\" > \"$batch_file_names\"\n",
    "\n",
    "# Read files from batch_file_names into array\n",
    "mapfile -t file_array < \"$batch_file_names\"\n",
    "\n",
    "# Define function to run dockerized bcftools\n",
    "process_file() {\n",
    "    local file=\"$1\"\n",
    "    docker run -v \"$PWD\":\"$PWD\" -w \"$PWD\" quay.io/biocontainers/bcftools:1.21--h3a4d415_1 \\\n",
    "      bcftools norm --threads 1 -f \"$REF\" -m -any -Oz -o \"$(basename \"$file\" .vcf.gz).norm.vcf.gz\" \"$file\"\n",
    "}\n",
    "\n",
    "export -f process_file\n",
    "export REF\n",
    "\n",
    "# Run parallel docker jobs using xargs (P=processes, n=arguments per command)\n",
    "printf \"%s\\n\" \"${file_array[@]}\" | xargs -P \"$(($(nproc)/2))\" -n 1 -I {} bash -c 'process_file \"$@\"' _ {}\n"
   ]
  },
  {
   "cell_type": "code",
   "execution_count": null,
   "id": "8c6025a6",
   "metadata": {},
   "outputs": [],
   "source": [
    "VCF=`ls *norm.vcf.gz`\n",
    "echo $VCF"
   ]
  },
  {
   "cell_type": "markdown",
   "id": "120b8807",
   "metadata": {},
   "source": [
    "## Make a Plink bed file"
   ]
  },
  {
   "cell_type": "code",
   "execution_count": null,
   "id": "598fedf6",
   "metadata": {},
   "outputs": [],
   "source": [
    "docker run -v \"$PWD\":\"$PWD\" -w \"$PWD\" quay.io/biocontainers/plink2:2.0.0a.6.9--h9948957_0 plink2 \\\n",
    "    --vcf $VCF \\\n",
    "    --vcf-idspace-to _ \\\n",
    "    --double-id \\\n",
    "    --allow-extra-chr 0 \\\n",
    "    --make-bed \\\n",
    "    --vcf-half-call m \\\n",
    "    --out \"${VCF/.vcf.gz/\"\"}\""
   ]
  },
  {
   "cell_type": "markdown",
   "id": "e6f12713",
   "metadata": {},
   "source": [
    "## Convert the pVCF to PLINK 2.x formated dataset (pgen/pvar/psam)\n",
    "PLINK 2.x formated files are faster to work with and have significntly smaller size than PLINK 1.x formated files.\n",
    "However, PLINK 1.x is more popular format with wider support."
   ]
  },
  {
   "cell_type": "code",
   "execution_count": null,
   "id": "72c51078",
   "metadata": {},
   "outputs": [],
   "source": [
    "time docker run -v \"$PWD\":\"$PWD\" -w \"$PWD\" quay.io/biocontainers/plink2:2.0.0a.6.9--h9948957_0 plink2 \\\n",
    "  --no-pheno \\\n",
    "  --vcf \"$VCF\" \\\n",
    "  --vcf-half-call 'haploid' \\\n",
    "  --make-pgen \\\n",
    "  --out \"${VCF/.vcf.gz/\"\"}\""
   ]
  },
  {
   "cell_type": "markdown",
   "id": "d892ca8b",
   "metadata": {},
   "source": [
    "## Convert to BED/BIM/FAM (PLINK 1.x format)\n",
    "\n",
    "`--max-alleles` - excludes variants with more than the indicated value. When a variant has exactly one ALT allele and it's a missing-code, these filters treat it as having only one allele.\n",
    "> see here: https://groups.google.com/g/plink2-users/c/rxMlVLIX-JA?pli=1 and https://github.com/meyer-lab-cshl/plinkQC/issues/10"
   ]
  },
  {
   "cell_type": "code",
   "execution_count": null,
   "id": "959b6dac",
   "metadata": {},
   "outputs": [],
   "source": [
    "docker run -v \"$PWD\":\"$PWD\" -w \"$PWD\" quay.io/biocontainers/plink2:2.0.0a.6.9--h9948957_0 plink2 \\\n",
    "  --no-pheno \\\n",
    "  --vcf \"$VCF\" \\\n",
    "  --vcf-half-call 'haploid' \\\n",
    "  --max-alleles 2 \\\n",
    "  --make-bed \\\n",
    "  --out test_vcf_bed"
   ]
  },
  {
   "cell_type": "markdown",
   "id": "e8d5384e",
   "metadata": {},
   "source": [
    "## Validate the output files"
   ]
  },
  {
   "cell_type": "code",
   "execution_count": null,
   "id": "594dcfd8",
   "metadata": {},
   "outputs": [],
   "source": [
    "docker run -v \"$PWD\":\"$PWD\" -w \"$PWD\" quay.io/biocontainers/plink2:2.0.0a.6.9--h9948957_0 plink2 \\\n",
    "  --pfile \"${VCF/.vcf.gz/\"\"}\" \\\n",
    "  --validate"
   ]
  },
  {
   "cell_type": "code",
   "execution_count": null,
   "id": "fd93d622",
   "metadata": {},
   "outputs": [],
   "source": [
    "docker run -v \"$PWD\":\"$PWD\" -w \"$PWD\" quay.io/biocontainers/plink2:2.0.0a.6.9--h9948957_0 plink2 \\\n",
    "  --bfile test_vcf_bed \\\n",
    "  --validate"
   ]
  },
  {
   "cell_type": "code",
   "execution_count": null,
   "id": "455bca26",
   "metadata": {},
   "outputs": [],
   "source": [
    "!dx upload ukb23157_c1_b1_v1.norm.vcf.gz --path bed_maf/"
   ]
  }
 ],
 "metadata": {
  "kernelspec": {
   "display_name": "Bash",
   "language": "bash",
   "name": "bash"
  },
  "language_info": {
   "codemirror_mode": "shell",
   "file_extension": ".sh",
   "mimetype": "text/x-sh",
   "name": "bash"
  }
 },
 "nbformat": 4,
 "nbformat_minor": 5
}
